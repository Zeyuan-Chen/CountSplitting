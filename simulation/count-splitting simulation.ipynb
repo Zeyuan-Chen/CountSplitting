{
 "cells": [
  {
   "cell_type": "markdown",
   "id": "fb47273a",
   "metadata": {},
   "source": [
    "Have count data (Poisson): \n",
    "RNAseq (reads per gene), \n",
    "methylation (2 columns per site: methylated reads, non-metylated reads at site)\n",
    "\n",
    "data matrix X\n",
    "n rows (samples, strains, tissues, cells)\n",
    "p columns (genes, isoforms, sites, SNPs)\n",
    " \n",
    "Want to process X, to learn annotatins for rows or columns\n",
    "\n",
    "\n",
    "Example.\n",
    "Let rows be cells\n",
    "Let columns be genes\n",
    "Let cells be RNAseq read counts\n",
    "Alternatively Let columns be sites*methStatus (two columns per site) with cells be counts of methylated and unmethylated reads at a site.\n",
    "\n",
    "\n",
    "Rows may have {sample, strain, tissue} as annotations already.\n",
    "\n",
    "Can generate new annotations.\n",
    "(1) Use count data to cluster cells into cell types. Label rows with cell type or cluster number\n",
    "(2) do other analyses of the X to make annotations for the rows\n",
    "\n",
    "Use new annotations in various tests and analyses\n",
    "(1) Differences across strains of expression of particular genes in particular cell type\n",
    "(2) Differences across cell types in methylation proportion at particular sites\n",
    "(3) Differences across strains of position of cell types on UMAP figure\n",
    "\n",
    "Problem: information in the data set X is used to define clusters=cell types and to test for the various differences.\n",
    "Data splitting or replication does not eliminate the problem. If (a) some cells or samples used to define criteria for specifying clusters (b) Then criteria are applied to new cells/samples to label/annote them (cell type) and (c) tests or downstream analyses using labels are done with new cells/samples, the results are still biased, because measurements from the new cells/samples are used to apply the label criteria and to do the tests.\n",
    "\n",
    "Solution. Unpublished work by Daniela Witten.\n",
    "Do not split samples/cells. Split reads.\n",
    "\n",
    "Start with data set X. Cells are read counts.\n",
    "\n",
    "Make two data arrays with the same dimensions, row labels, column labels, and annotation at X: Xa, Xb\n",
    "\n",
    "For each cell X[i,j] with count Nij\n",
    "Xa[i,j] ~ Binomial(size=Nij, prob=0.5)\n",
    "Xb[i,j] = Nij - Xa[i,j]\n",
    "\"For each read, flip a fair coin and put it in Xa if heads or Xb if tails\"\n",
    "\n",
    "Now\n",
    "(1) Do whatever you want to Xa to generate new row labels, like cell type or cluster number\n",
    "(2) Apply new labels to Xb\n",
    "(3) Do whatever tests involving the new labels you want using Xb\n",
    "\n",
    "This is not double dipping. Results are valid."
   ]
  },
  {
   "cell_type": "raw",
   "id": "147be38b",
   "metadata": {},
   "source": []
  },
  {
   "cell_type": "markdown",
   "id": "df696db5",
   "metadata": {},
   "source": [
    "Parameterize negative binomial as in paper\n",
    "Lambda = mean\n",
    "\n",
    "For X ~ Poisson(Lambda),\n",
    "mean(X) = var(X) = Lambda\n",
    "\n",
    "For X ~ NB(Lambda, b)\n",
    "mean(X) = Lambda  \n",
    "var(X) = Lambda + Lambda^2/b\n",
    "X ~ NB(Lambda, b)  <=> X ~ {Poisson(Lambda*tau), tau ~ Gamma(b,b)}\n",
    "\n",
    "overdispersion parameter = Lambda/b"
   ]
  },
  {
   "cell_type": "code",
   "execution_count": 65,
   "id": "8a5ae810",
   "metadata": {},
   "outputs": [],
   "source": [
    "rNB <- function(n, Lambda, b=NA, overdispersion=NA){\n",
    "    \n",
    "    if(overdispersion==0){\n",
    "        x <- rpois(n, lambda=Lambda)\n",
    "    }else{\n",
    "    \n",
    "        if( any(is.na(b))){\n",
    "            b <- Lambda/overdispersion\n",
    "        }\n",
    "    \n",
    "        x <- rnbinom(n, mu=Lambda, size=b)\n",
    "    }\n",
    "    return(x)\n",
    "}"
   ]
  },
  {
   "cell_type": "markdown",
   "id": "0d83f3f1",
   "metadata": {},
   "source": [
    "Illustrate formula 4.15: correlation of values in train and test splits \n",
    "by count-splitting in Poisson distributed and in Negative Binomial distributed data. \n",
    "Try various overdispersion parameters for Negative Binomial"
   ]
  },
  {
   "cell_type": "code",
   "execution_count": 66,
   "id": "10797eab",
   "metadata": {},
   "outputs": [],
   "source": [
    "train.test.correlation <- function(seed=1, n=1000, Lambda=50, overdispersion=0, nreps=1000, verbose=F){\n",
    "    \n",
    "    train.test.cor <- rep(as.numeric(NA), nreps)\n",
    "    \n",
    "    for(repi in 1:nreps){\n",
    "        \n",
    "        X <- rNB(n=n, Lambda=Lambda, overdispersion=overdispersion)\n",
    "        \n",
    "        X.train <- X.test <- rep(as.numeric(NA), n)\n",
    "        for(i in 1:n){\n",
    "            X.train[i] <- rbinom(1, size=X[i], prob=0.5)\n",
    "            X.test[i] <- X[i] - X.train[i]\n",
    "        }\n",
    "        \n",
    "        train.test.cor[repi] <- cor(X.train, X.test)\n",
    "        if(verbose){ print( mean( train.test.cor[1:repi] ) ) }\n",
    "        \n",
    "    }\n",
    "    \n",
    "    cor.mean <- mean( train.test.cor)\n",
    "    cor.se <- sd( train.test.cor )/sqrt(nreps)\n",
    "    textout <- sprintf(\"Overdispersion: %f \\nMean: %.4f \\nSE: %.4f\", \n",
    "                       overdispersion, round(cor.mean, 4), round(cor.se,4) )\n",
    "                      \n",
    "    cat(textout)\n",
    "}"
   ]
  },
  {
   "cell_type": "code",
   "execution_count": 101,
   "id": "69dfc530",
   "metadata": {},
   "outputs": [],
   "source": [
    "## train.test.correlation(overdispersion=0, verbose=F ) "
   ]
  },
  {
   "cell_type": "code",
   "execution_count": 102,
   "id": "fc96b7eb",
   "metadata": {},
   "outputs": [],
   "source": [
    "## train.test.correlation(overdispersion=0.1)"
   ]
  },
  {
   "cell_type": "code",
   "execution_count": 103,
   "id": "0fd8f2f2",
   "metadata": {},
   "outputs": [],
   "source": [
    "## train.test.correlation(overdispersion=1)"
   ]
  },
  {
   "cell_type": "code",
   "execution_count": 104,
   "id": "0de14ad2",
   "metadata": {},
   "outputs": [],
   "source": [
    "## train.test.correlation(overdispersion=10)"
   ]
  },
  {
   "cell_type": "code",
   "execution_count": null,
   "id": "088b5f07",
   "metadata": {},
   "outputs": [],
   "source": []
  },
  {
   "cell_type": "code",
   "execution_count": 68,
   "id": "80718450",
   "metadata": {},
   "outputs": [],
   "source": [
    "readKey <- function(){\n",
    "    cat (\"Press [enter] to continue\")\n",
    "    line <- readline()\n",
    "}\n"
   ]
  },
  {
   "cell_type": "code",
   "execution_count": null,
   "id": "b77cb329",
   "metadata": {},
   "outputs": [],
   "source": []
  },
  {
   "cell_type": "code",
   "execution_count": 15,
   "id": "69860dfd",
   "metadata": {},
   "outputs": [],
   "source": [
    "library(class) ## for knn()\n",
    "library(Hotelling) ## for hotelling.test()\n",
    "\n",
    " "
   ]
  },
  {
   "cell_type": "code",
   "execution_count": 69,
   "id": "938d8583",
   "metadata": {},
   "outputs": [],
   "source": [
    "\n",
    "## n = number of cells\n",
    "## p = number of genes, features\n",
    "## Nct = number of cell types\n",
    "## meanCountDist = baseline distribtuion of counts per (cell-gene)\n",
    "## cellTypeEffects = distribtuion of cell-type specific offsets in mean count per gene\n",
    "## countThreshold = minimum count per cell-gene\n",
    "## randOffsetSD = sd of random noise in count means\n",
    "\n",
    "generateCountData <- function(seed, n=1000, p=1000,\n",
    "                             Nct=4, meanCountDist=c(10:80),\n",
    "                              cellTypeEffects=c(-2:2),\n",
    "                              countThreshold=5, randOffsetSD=1){\n",
    "                              \n",
    "    set.seed(seed)\n",
    "\n",
    "    ## mean count per gene=column\n",
    "    meanCounts <- sample(x=meanCountDist, size=p, replace=T)\n",
    "\n",
    "    \n",
    "    ## cell-type specific offset of mean count at each gene\n",
    "    cellTypeOffsets <- matrix( sample(cellTypeEffects, Nct*p, replace=T),\n",
    "                              nrow=Nct, ncol=p)\n",
    "     \n",
    "    ## noise in cell-type by gene mean count matrix\n",
    "    randOffset <- matrix(rnorm(n*p, sd=randOffsetSD),n,p)\n",
    "    \n",
    "    \n",
    "    ## row annotation (cell type, cluster ID, ...)\n",
    "    rAnnotation <- data.frame( cellType=sample(c(1:Nct), size=n, replace=T) )\n",
    "    \n",
    "    ## data matrix: n(cells) -by- p(genes, features)\n",
    "    X <- matrix(as.numeric(NA), n, p)\n",
    "    \n",
    "    ## draw read counts for each row 1:n\n",
    "    for(i in 1:n){\n",
    "        cellType <- rAnnotation[i,1]\n",
    "        col.means <- meanCounts + cellTypeOffsets[cellType,] + randOffset[i,] \n",
    "            \n",
    "        col.means[col.means < countThreshold] <- countThreshold\n",
    "        col.counts <- rpois(n=p, lambda=col.means) ## n here is number of draws from rpois = rowlength = p\n",
    "        X[i,] <- col.counts\n",
    "    }\n",
    "\n",
    "    ret <- list(X=X, rAnnotation=rAnnotation)\n",
    "    return(ret)\n",
    "}\n"
   ]
  },
  {
   "cell_type": "code",
   "execution_count": 71,
   "id": "243cdb18",
   "metadata": {},
   "outputs": [],
   "source": [
    "\n",
    "generateCountData.test <- function(seed=1,n=1000, p=1000, \n",
    "                                  Nct=4, meanCountDist=c(10:80),\n",
    "                                  cellTypeEffects=c(-2:2),\n",
    "                                  countThreshold=5, randOffsetSD=1,\n",
    "                                  nplots=2){\n",
    "   \n",
    "    gen <- generateCountData( seed=1,\n",
    "                            n=n, p=p, Nct=Nct,\n",
    "                            cellTypeEffects=runif(100, min=-2,max=2),\n",
    "                            countThreshold=countThreshold, randOffsetSD=randOffsetSD)\n",
    "    X <- gen$X\n",
    "    \n",
    "    if(nplots>=1){\n",
    "        udv <- svd(scale(X), nu=3, nv=3)\n",
    "        ## print(head(udv$d))\n",
    "    \n",
    "    \n",
    "        plot(x=udv$u[,1], y=udv$u[,2], col=gen$rAnnotation$cellType, pch=20,\n",
    "         xlab=\"PC1\", ylab=\"PC2\", main=\"Color by true cell type\")\n",
    "    }\n",
    "    if(nplots==2){\n",
    "    \n",
    "        plot(x=udv$u[,2], y=udv$u[,3], col=gen$rAnnotation$cellType, pch=20,\n",
    "         xlab=\"PC2\", ylab=\"PC3\", main=\"Color by true cell type\")\n",
    "    }\n",
    "\n",
    "}\n",
    "\n",
    "## short name\n",
    "gcdt <- generateCountData.test \n",
    "\n"
   ]
  },
  {
   "cell_type": "code",
   "execution_count": 105,
   "id": "c5097357",
   "metadata": {},
   "outputs": [],
   "source": [
    "## gcdt(Nct=4, randOffsetSD=5)"
   ]
  },
  {
   "cell_type": "code",
   "execution_count": 78,
   "id": "ee0709af",
   "metadata": {},
   "outputs": [],
   "source": [
    "## split X so half rows in X1 and other half in X2\n",
    "dataSplit <- function(dat, seed=1){\n",
    "    X <- dat$X\n",
    "    rAnnotation <- dat$rAnnotation\n",
    "    set.seed(seed)\n",
    "    n <- nrow(X)\n",
    "    n1 <- ceiling(n/2)\n",
    "    n2 <- n-n1\n",
    "    ind1 <- sample(1:n, size=n1, replace=F)\n",
    "    ind2 <- setdiff(1:n,ind1)\n",
    "    X1 <- X[ind1,]\n",
    "    X2 <- X[ind2,]\n",
    "    rAnnotation.split1 <- rAnnotation[ind1,]\n",
    "    rAnnotation.split2 <- rAnnotation[ind2,]\n",
    "    ret <- list(X1=X1, X2=X2, ind1=ind1, ind2=ind2,\n",
    "                rAnnotation.split1=rAnnotation.split1,\n",
    "                rAnnotation.split2=rAnnotation.split2)\n",
    "    return(ret)\n",
    "}\n",
    "\n"
   ]
  },
  {
   "cell_type": "code",
   "execution_count": 80,
   "id": "6e294e7a",
   "metadata": {},
   "outputs": [],
   "source": [
    "## split X into two matrices of same size.  \n",
    "## foreach read in each cell, flip a fair coin\n",
    "## if heads, put count in Xa, else in Xb\n",
    "## For each cell X[i,j] with count Nij\n",
    "## Xa[i,j] ~ Binomial(size=Nij, prob=0.5)\n",
    "## Xb[i,j] = Nij - Xa[i,j]\n",
    "poissonThinning <- function(dat,seed=1){\n",
    "    X <- dat$X\n",
    "    set.seed(seed)\n",
    "    n <- nrow(X)\n",
    "    m <- ncol(X)\n",
    "    Xa <- Xb <- matrix(rep(as.numeric(NA),n*m),n,m)\n",
    "    for( i in 1:n ){\n",
    "        for( j in 1:m ){\n",
    "            Nij <- X[i,j]\n",
    "            Xa[i,j] <- rbinom(1, size=Nij, prob=0.5)\n",
    "            Xb[i,j] <- Nij - Xa[i,j]\n",
    "        }\n",
    "    }\n",
    "    ret <- list(Xa=Xa, Xb=Xb)\n",
    "    return( ret )\n",
    "}\n"
   ]
  },
  {
   "cell_type": "code",
   "execution_count": 81,
   "id": "7beed0ac",
   "metadata": {},
   "outputs": [],
   "source": [
    "\n",
    "##  doClustering(data, k): \n",
    "##  input data matrix \"data\", and number of clusters to find \"k\"\n",
    "##  uses kmeans to cluster rows\n",
    "##  return vector of row labels = cluster numbers\n",
    "##  \n",
    "##  uses\n",
    "##  R library(class):\n",
    "##      kmeans(x, centers, iter.max = 10, nstart = 1,\n",
    "##            algorithm = c(\"Hartigan-Wong\", \"Lloyd\", \"Forgy\",\n",
    "##                          \"MacQueen\"), trace=FALSE)\n",
    "doClustering <- function(data, k){\n",
    "    clusterIDs <- as.integer(kmeans(data,k)$cluster)\n",
    "    return(clusterIDs)\n",
    "}\n",
    "\n"
   ]
  },
  {
   "cell_type": "code",
   "execution_count": 23,
   "id": "0f260750",
   "metadata": {},
   "outputs": [],
   "source": [
    "## doClassification(train, test, train.lab, k=1)\n",
    "## input data matrices train and test with count data for same columns (genes, features)\n",
    "## rows of \"train\" matrix have cluster IDs (integers) in input vector train.lab\n",
    "## use k-nearest neighbors to assign to the rows of \"test\" matrix\n",
    "## each row in \"test\" to neighbors in \"train\"\n",
    "## input \"k\" for knn\n",
    "## output: vector of integers = row labels for \"test\" matrix = cluster IDS\n",
    "doClassification <- function(train, test, train.lab, k=1){\n",
    "    require(class)\n",
    "    test.clust <- as.integer(knn(train=train, test=test, cl=train.lab, k = k))\n",
    "    return(test.clust)\n",
    "\n",
    "}\n"
   ]
  },
  {
   "cell_type": "code",
   "execution_count": 122,
   "id": "11000d00",
   "metadata": {},
   "outputs": [],
   "source": [
    "## given matrix of count data: n rows (cells, observation units), p columns (genes, features)\n",
    "## simulate count data with \"Nct\" (number of cell types) distinct clusters among the rows\n",
    "## Analyze the data using a clustering method that finds (forces) \"Nclust\" different clusters to be detected\n",
    "## For Nct>1, there will be cell-type or cluster specific offsets to the mean counts at each gene=feature\n",
    "## extra noise in the data matrix (mean count at cell-by-gene) with specified SD = randOffsetSD\n",
    "## compare splitting cells into train-test splits vs count splitting of entire data matrix\n",
    "\n",
    "compareTests <- function(seed=1, n=1000, p=50,\n",
    "                         Nct=2, Nclust=2,\n",
    "                         cellTypeEffects=NA,  \n",
    "                         randOffsetSD=1  ){\n",
    "\n",
    "    set.seed(seed)\n",
    "    \n",
    "    if(all(is.na(cellTypeEffects))){\n",
    "        cellTypeEffects <- runif(100, min=-5,max=5)\n",
    "    }\n",
    "    \n",
    "    dat <- generateCountData(seed=seed, n=n, p=p,  Nct=Nct,\n",
    "                             cellTypeEffects=cellTypeEffects,  randOffsetSD=randOffsetSD)\n",
    "  \n",
    "    ## split cells into train and test sets\n",
    "    ## find cell types (clusters) by kmeans in training set\n",
    "    ## assign cluster labels to test set using cluser model,\n",
    "    ##        cell types, from training set\n",
    "    dat.split <- dataSplit(dat, seed=seed)\n",
    "    dat.split.clust <- doClustering(data=dat.split$X1, k=Nclust)\n",
    "    dat.split.classify <- doClassification(train=dat.split$X1,\n",
    "                                           test=dat.split$X2,\n",
    "                                           train.lab=dat.split.clust,\n",
    "                                           k=Nclust)\n",
    "    \n",
    "    udv <- svd(scale(dat$X), 10,10)\n",
    "    \n",
    "    udv.split.1 <- svd(scale(dat.split$X1),10,10) ## train-test cell-split training set\n",
    "    udv.split.2 <- svd(scale(dat.split$X2),10,10) ## train-test cell-split test set\n",
    "    \n",
    "\n",
    "    pcs1 <- scale(dat$X) %*% udv.split.1$v  ## PCs based on cell-split training set\n",
    "    pcs2 <- scale(dat$X) %*% udv.split.2$v  ## PCs based on cell-split test set\n",
    "    \n",
    "     \n",
    " \n",
    "    ## training split\n",
    "    rant1 <- dat.split$rAnnotation.split1\n",
    "    pcs.train <- as.data.frame(pcs1[dat.split$ind1,])## PCs for cell-split training data\n",
    "    names(pcs.train) <- paste(\"pc\", 1:(ncol(pcs.train)), sep=\"\")\n",
    "    res.split.train <- data.frame(trueClust=rant1, classifier=dat.split.clust, pcs.train)\n",
    "    \n",
    "    ## test split\n",
    "    rant2 <- dat.split$rAnnotation.split2 ## true cluster information for cell-split test set\n",
    "    pcs.test <- as.data.frame(pcs1[dat.split$ind2,]) ## PCs for cell-split test data\n",
    "    names(pcs.test) <- paste(\"pc\", 1:(ncol(pcs.test)), sep=\"\")\n",
    "    res.split.test <- data.frame(trueClust=rant2, classifier=dat.split.classify, pcs.test)\n",
    "    \n",
    "      \n",
    "    plot(x=udv$u[,1], y=udv$u[,2], col=dat$rAnnotation$cellType, pch=20,\n",
    "        xlab=\"PC1\", ylab=\"PC2\", main=\"Color by true cell type\")\n",
    "    \n",
    "    plot(pc2~pc1, pch=20, col=classifier, data=res.split.train,\n",
    "         main=\"Assigned clusters by train-test split of cells\\n training set\")\n",
    "    \n",
    "    plot(pc2~pc1, pch=20, col=classifier, data=res.split.test,\n",
    "         main=\"Assigned clusters by train-test split of cells\\n test set\")\n",
    "    \n",
    "    \n",
    "    ###### count splitting analysis\n",
    "    \n",
    "    dat.thin <- poissonThinning(dat, seed=seed)\n",
    "    dat.thin.clust <- doClustering(data=as.matrix(scale(dat.thin$Xa)), k=Nclust)\n",
    "    dat.thin.classify <- dat.thin.clust ## lift over row labels\n",
    "\n",
    "    \n",
    "    udv.thin.a <- svd(scale(dat.thin$Xa),10,10)  ## count splitting training set\n",
    "    udv.thin.b <- svd(scale(dat.thin$Xb),10,10)  ## count splitting test set\n",
    "\n",
    "    \n",
    " \n",
    "    \n",
    "    ## Hotelling T-test for multivariate distance between cluster1 and cluster2 from\n",
    "    ## classification. \n",
    "    ## use coordinates from first three PCs\n",
    "    \n",
    "#     hot.split <- hotelling.test(x=udv.split.2$u[dat.split.classify==1,1:2],\n",
    "#                                 y=udv.split.2$u[dat.split.classify==2,1:2])\n",
    "    x <- pcs1[dat.split$ind2,][dat.split.classify==1,1:3] ## pcs of test data in cluster 1\n",
    "    y <- pcs1[dat.split$ind2,][dat.split.classify==2,1:3] ## pcs of test data in cluster 2\n",
    "    hot.split <- hotelling.test(x=x, y=y)\n",
    "    \n",
    "    hot.split.string <- sprintf(\"Hotelling test for train-test split analysis\\n test-statistic: %f.1\\n degrees of freedom: %d %d\\n p-value: %f.5\\n\",\n",
    "                                hot.split$stats$statistic, hot.split$stats$df[1], \n",
    "                                hot.split$stats$df[2], hot.split$pval)\n",
    "    cat(hot.split.string)\n",
    "    \n",
    "    \n",
    "    hot.thin <- hotelling.test(x=udv.thin.b$u[dat.thin.classify==1,1:3],\n",
    "                               y=udv.thin.b$u[dat.thin.classify==2,1:3])\n",
    "\n",
    "    \n",
    "    hot.thin.string <- sprintf(\"Hotelling test for count-splitting analysis\\n test-statistic: %f.1\\n degrees of freedom: %d %d\\n p-value: %f.5\\n\",\n",
    "                                hot.thin$stats$statistic, hot.thin$stats$df[1], \n",
    "                                hot.thin$stats$df[2], hot.thin$pval)\n",
    "    \n",
    "    cat(hot.thin.string)\n",
    "   \n",
    "    pc.thin.train <- as.data.frame(udv.thin.a$u)\n",
    "    pc.thin.test <- as.data.frame(udv.thin.b$u)\n",
    "    \n",
    "    names(pc.thin.train) <- paste(\"pc\", 1:(ncol(pc.thin.train)), sep=\"\")\n",
    "    names(pc.thin.test) <- paste(\"pc\", 1:(ncol(pc.thin.test)), sep=\"\")\n",
    "    ## browser()\n",
    "    plot(pc2~pc1, pch=20, col=dat.thin.classify, data=pc.thin.train,\n",
    "         main=\"Assigned clusters by count-splitting \\n training set\")\n",
    "    \n",
    "    plot(pc2~pc1, pch=20, col=dat.thin.classify, data=pc.thin.test,\n",
    "         main=\"Assigned clusters by count-splitting \\n test set\")\n",
    " \n",
    "     \n",
    "}\n",
    " "
   ]
  },
  {
   "cell_type": "code",
   "execution_count": 125,
   "id": "4b3ffdfe",
   "metadata": {},
   "outputs": [],
   "source": [
    "## compareTests(Nct=1, seed=1, p=10)\n",
    "\n"
   ]
  },
  {
   "cell_type": "code",
   "execution_count": 126,
   "id": "f93e156b",
   "metadata": {},
   "outputs": [],
   "source": [
    " ## compareTests(Nct=2, seed=1, p=10)\n",
    "\n"
   ]
  },
  {
   "cell_type": "code",
   "execution_count": 15,
   "id": "f2b53cf0",
   "metadata": {},
   "outputs": [
    {
     "data": {
      "text/html": [
       "<strong>pdf:</strong> 2"
      ],
      "text/latex": [
       "\\textbf{pdf:} 2"
      ],
      "text/markdown": [
       "**pdf:** 2"
      ],
      "text/plain": [
       "pdf \n",
       "  2 "
      ]
     },
     "metadata": {},
     "output_type": "display_data"
    }
   ],
   "source": [
    "# pdf(\"k1.pdf\")\n",
    "# compareTests(Nct=1, seed=1, p=10)\n",
    "# dev.off()\n",
    "\n"
   ]
  },
  {
   "cell_type": "code",
   "execution_count": 17,
   "id": "98aaaee6",
   "metadata": {},
   "outputs": [
    {
     "data": {
      "text/html": [
       "<strong>pdf:</strong> 2"
      ],
      "text/latex": [
       "\\textbf{pdf:} 2"
      ],
      "text/markdown": [
       "**pdf:** 2"
      ],
      "text/plain": [
       "pdf \n",
       "  2 "
      ]
     },
     "metadata": {},
     "output_type": "display_data"
    }
   ],
   "source": [
    "\n",
    "# pdf(\"k2.pdf\")\n",
    "# compareTests(Nct=2, seed=1, p=10)\n",
    "# dev.off()"
   ]
  },
  {
   "cell_type": "code",
   "execution_count": null,
   "id": "4a0b1bc3",
   "metadata": {},
   "outputs": [],
   "source": [
    " "
   ]
  },
  {
   "cell_type": "code",
   "execution_count": null,
   "id": "74d6dd36",
   "metadata": {},
   "outputs": [],
   "source": []
  },
  {
   "cell_type": "code",
   "execution_count": null,
   "id": "4fb7dd15",
   "metadata": {},
   "outputs": [],
   "source": []
  }
 ],
 "metadata": {
  "kernelspec": {
   "display_name": "R [conda env:r-env] *",
   "language": "R",
   "name": "conda-env-r-env-r"
  },
  "language_info": {
   "codemirror_mode": "r",
   "file_extension": ".r",
   "mimetype": "text/x-r-source",
   "name": "R",
   "pygments_lexer": "r",
   "version": "4.1.3"
  }
 },
 "nbformat": 4,
 "nbformat_minor": 5
}
